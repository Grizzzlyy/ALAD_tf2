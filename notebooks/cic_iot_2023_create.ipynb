{
 "cells": [
  {
   "cell_type": "code",
   "execution_count": 1,
   "id": "380afc93-58a0-4d70-8634-fa3b05646eda",
   "metadata": {},
   "outputs": [],
   "source": [
    "import glob\n",
    "\n",
    "import numpy as np\n",
    "import pandas as pd"
   ]
  },
  {
   "cell_type": "markdown",
   "id": "0ae2f7d5-4972-426e-b88d-a1d7ed76eaf9",
   "metadata": {},
   "source": [
    "### Load dataset"
   ]
  },
  {
   "cell_type": "code",
   "execution_count": 2,
   "id": "83726970-3703-4985-8346-3c6e94e2fd7a",
   "metadata": {
    "scrolled": true
   },
   "outputs": [
    {
     "data": {
      "text/plain": [
       "['C:/ml_data/cic_iot_2023/raw\\\\part-00000-363d1ba3-8ab5-4f96-bc25-4d5862db7cb9-c000.csv',\n",
       " 'C:/ml_data/cic_iot_2023/raw\\\\part-00001-363d1ba3-8ab5-4f96-bc25-4d5862db7cb9-c000.csv',\n",
       " 'C:/ml_data/cic_iot_2023/raw\\\\part-00002-363d1ba3-8ab5-4f96-bc25-4d5862db7cb9-c000.csv',\n",
       " 'C:/ml_data/cic_iot_2023/raw\\\\part-00003-363d1ba3-8ab5-4f96-bc25-4d5862db7cb9-c000.csv',\n",
       " 'C:/ml_data/cic_iot_2023/raw\\\\part-00004-363d1ba3-8ab5-4f96-bc25-4d5862db7cb9-c000.csv',\n",
       " 'C:/ml_data/cic_iot_2023/raw\\\\part-00005-363d1ba3-8ab5-4f96-bc25-4d5862db7cb9-c000.csv',\n",
       " 'C:/ml_data/cic_iot_2023/raw\\\\part-00006-363d1ba3-8ab5-4f96-bc25-4d5862db7cb9-c000.csv',\n",
       " 'C:/ml_data/cic_iot_2023/raw\\\\part-00007-363d1ba3-8ab5-4f96-bc25-4d5862db7cb9-c000.csv',\n",
       " 'C:/ml_data/cic_iot_2023/raw\\\\part-00008-363d1ba3-8ab5-4f96-bc25-4d5862db7cb9-c000.csv',\n",
       " 'C:/ml_data/cic_iot_2023/raw\\\\part-00009-363d1ba3-8ab5-4f96-bc25-4d5862db7cb9-c000.csv',\n",
       " 'C:/ml_data/cic_iot_2023/raw\\\\part-00010-363d1ba3-8ab5-4f96-bc25-4d5862db7cb9-c000.csv',\n",
       " 'C:/ml_data/cic_iot_2023/raw\\\\part-00011-363d1ba3-8ab5-4f96-bc25-4d5862db7cb9-c000.csv',\n",
       " 'C:/ml_data/cic_iot_2023/raw\\\\part-00012-363d1ba3-8ab5-4f96-bc25-4d5862db7cb9-c000.csv',\n",
       " 'C:/ml_data/cic_iot_2023/raw\\\\part-00013-363d1ba3-8ab5-4f96-bc25-4d5862db7cb9-c000.csv',\n",
       " 'C:/ml_data/cic_iot_2023/raw\\\\part-00014-363d1ba3-8ab5-4f96-bc25-4d5862db7cb9-c000.csv',\n",
       " 'C:/ml_data/cic_iot_2023/raw\\\\part-00015-363d1ba3-8ab5-4f96-bc25-4d5862db7cb9-c000.csv',\n",
       " 'C:/ml_data/cic_iot_2023/raw\\\\part-00016-363d1ba3-8ab5-4f96-bc25-4d5862db7cb9-c000.csv',\n",
       " 'C:/ml_data/cic_iot_2023/raw\\\\part-00017-363d1ba3-8ab5-4f96-bc25-4d5862db7cb9-c000.csv',\n",
       " 'C:/ml_data/cic_iot_2023/raw\\\\part-00018-363d1ba3-8ab5-4f96-bc25-4d5862db7cb9-c000.csv',\n",
       " 'C:/ml_data/cic_iot_2023/raw\\\\part-00019-363d1ba3-8ab5-4f96-bc25-4d5862db7cb9-c000.csv',\n",
       " 'C:/ml_data/cic_iot_2023/raw\\\\part-00020-363d1ba3-8ab5-4f96-bc25-4d5862db7cb9-c000.csv',\n",
       " 'C:/ml_data/cic_iot_2023/raw\\\\part-00021-363d1ba3-8ab5-4f96-bc25-4d5862db7cb9-c000.csv',\n",
       " 'C:/ml_data/cic_iot_2023/raw\\\\part-00022-363d1ba3-8ab5-4f96-bc25-4d5862db7cb9-c000.csv']"
      ]
     },
     "execution_count": 2,
     "metadata": {},
     "output_type": "execute_result"
    }
   ],
   "source": [
    "parts = glob.glob('C:/ml_data/cic_iot_2023/raw/*.csv')\n",
    "parts"
   ]
  },
  {
   "cell_type": "code",
   "execution_count": 3,
   "id": "3e0f944f-e0cf-4ee6-93e7-cceff8d0da19",
   "metadata": {},
   "outputs": [
    {
     "data": {
      "text/html": [
       "<div>\n",
       "<style scoped>\n",
       "    .dataframe tbody tr th:only-of-type {\n",
       "        vertical-align: middle;\n",
       "    }\n",
       "\n",
       "    .dataframe tbody tr th {\n",
       "        vertical-align: top;\n",
       "    }\n",
       "\n",
       "    .dataframe thead th {\n",
       "        text-align: right;\n",
       "    }\n",
       "</style>\n",
       "<table border=\"1\" class=\"dataframe\">\n",
       "  <thead>\n",
       "    <tr style=\"text-align: right;\">\n",
       "      <th></th>\n",
       "      <th>flow_duration</th>\n",
       "      <th>Header_Length</th>\n",
       "      <th>Protocol Type</th>\n",
       "      <th>Duration</th>\n",
       "      <th>Rate</th>\n",
       "      <th>Srate</th>\n",
       "      <th>Drate</th>\n",
       "      <th>fin_flag_number</th>\n",
       "      <th>syn_flag_number</th>\n",
       "      <th>rst_flag_number</th>\n",
       "      <th>...</th>\n",
       "      <th>Std</th>\n",
       "      <th>Tot size</th>\n",
       "      <th>IAT</th>\n",
       "      <th>Number</th>\n",
       "      <th>Magnitue</th>\n",
       "      <th>Radius</th>\n",
       "      <th>Covariance</th>\n",
       "      <th>Variance</th>\n",
       "      <th>Weight</th>\n",
       "      <th>label</th>\n",
       "    </tr>\n",
       "  </thead>\n",
       "  <tbody>\n",
       "    <tr>\n",
       "      <th>0</th>\n",
       "      <td>0.000000</td>\n",
       "      <td>54.00</td>\n",
       "      <td>6.00</td>\n",
       "      <td>64.00</td>\n",
       "      <td>0.329807</td>\n",
       "      <td>0.329807</td>\n",
       "      <td>0.0</td>\n",
       "      <td>1.0</td>\n",
       "      <td>0.0</td>\n",
       "      <td>1.0</td>\n",
       "      <td>...</td>\n",
       "      <td>0.000000</td>\n",
       "      <td>54.00</td>\n",
       "      <td>8.334383e+07</td>\n",
       "      <td>9.5</td>\n",
       "      <td>10.392305</td>\n",
       "      <td>0.000000</td>\n",
       "      <td>0.000000</td>\n",
       "      <td>0.00</td>\n",
       "      <td>141.55</td>\n",
       "      <td>DDoS-RSTFINFlood</td>\n",
       "    </tr>\n",
       "    <tr>\n",
       "      <th>1</th>\n",
       "      <td>0.000000</td>\n",
       "      <td>57.04</td>\n",
       "      <td>6.33</td>\n",
       "      <td>64.00</td>\n",
       "      <td>4.290556</td>\n",
       "      <td>4.290556</td>\n",
       "      <td>0.0</td>\n",
       "      <td>0.0</td>\n",
       "      <td>0.0</td>\n",
       "      <td>0.0</td>\n",
       "      <td>...</td>\n",
       "      <td>2.822973</td>\n",
       "      <td>57.04</td>\n",
       "      <td>8.292607e+07</td>\n",
       "      <td>9.5</td>\n",
       "      <td>10.464666</td>\n",
       "      <td>4.010353</td>\n",
       "      <td>160.987842</td>\n",
       "      <td>0.05</td>\n",
       "      <td>141.55</td>\n",
       "      <td>DoS-TCP_Flood</td>\n",
       "    </tr>\n",
       "    <tr>\n",
       "      <th>2</th>\n",
       "      <td>0.000000</td>\n",
       "      <td>0.00</td>\n",
       "      <td>1.00</td>\n",
       "      <td>64.00</td>\n",
       "      <td>33.396799</td>\n",
       "      <td>33.396799</td>\n",
       "      <td>0.0</td>\n",
       "      <td>0.0</td>\n",
       "      <td>0.0</td>\n",
       "      <td>0.0</td>\n",
       "      <td>...</td>\n",
       "      <td>0.000000</td>\n",
       "      <td>42.00</td>\n",
       "      <td>8.312799e+07</td>\n",
       "      <td>9.5</td>\n",
       "      <td>9.165151</td>\n",
       "      <td>0.000000</td>\n",
       "      <td>0.000000</td>\n",
       "      <td>0.00</td>\n",
       "      <td>141.55</td>\n",
       "      <td>DDoS-ICMP_Flood</td>\n",
       "    </tr>\n",
       "    <tr>\n",
       "      <th>3</th>\n",
       "      <td>0.328175</td>\n",
       "      <td>76175.00</td>\n",
       "      <td>17.00</td>\n",
       "      <td>64.00</td>\n",
       "      <td>4642.133010</td>\n",
       "      <td>4642.133010</td>\n",
       "      <td>0.0</td>\n",
       "      <td>0.0</td>\n",
       "      <td>0.0</td>\n",
       "      <td>0.0</td>\n",
       "      <td>...</td>\n",
       "      <td>0.000000</td>\n",
       "      <td>50.00</td>\n",
       "      <td>8.301570e+07</td>\n",
       "      <td>9.5</td>\n",
       "      <td>10.000000</td>\n",
       "      <td>0.000000</td>\n",
       "      <td>0.000000</td>\n",
       "      <td>0.00</td>\n",
       "      <td>141.55</td>\n",
       "      <td>DoS-UDP_Flood</td>\n",
       "    </tr>\n",
       "    <tr>\n",
       "      <th>4</th>\n",
       "      <td>0.117320</td>\n",
       "      <td>101.73</td>\n",
       "      <td>6.11</td>\n",
       "      <td>65.91</td>\n",
       "      <td>6.202211</td>\n",
       "      <td>6.202211</td>\n",
       "      <td>0.0</td>\n",
       "      <td>0.0</td>\n",
       "      <td>1.0</td>\n",
       "      <td>0.0</td>\n",
       "      <td>...</td>\n",
       "      <td>23.113111</td>\n",
       "      <td>57.88</td>\n",
       "      <td>8.297300e+07</td>\n",
       "      <td>9.5</td>\n",
       "      <td>11.346876</td>\n",
       "      <td>32.716243</td>\n",
       "      <td>3016.808286</td>\n",
       "      <td>0.19</td>\n",
       "      <td>141.55</td>\n",
       "      <td>DoS-SYN_Flood</td>\n",
       "    </tr>\n",
       "  </tbody>\n",
       "</table>\n",
       "<p>5 rows × 47 columns</p>\n",
       "</div>"
      ],
      "text/plain": [
       "   flow_duration  Header_Length  Protocol Type  Duration         Rate  \\\n",
       "0       0.000000          54.00           6.00     64.00     0.329807   \n",
       "1       0.000000          57.04           6.33     64.00     4.290556   \n",
       "2       0.000000           0.00           1.00     64.00    33.396799   \n",
       "3       0.328175       76175.00          17.00     64.00  4642.133010   \n",
       "4       0.117320         101.73           6.11     65.91     6.202211   \n",
       "\n",
       "         Srate  Drate  fin_flag_number  syn_flag_number  rst_flag_number  ...  \\\n",
       "0     0.329807    0.0              1.0              0.0              1.0  ...   \n",
       "1     4.290556    0.0              0.0              0.0              0.0  ...   \n",
       "2    33.396799    0.0              0.0              0.0              0.0  ...   \n",
       "3  4642.133010    0.0              0.0              0.0              0.0  ...   \n",
       "4     6.202211    0.0              0.0              1.0              0.0  ...   \n",
       "\n",
       "         Std  Tot size           IAT  Number   Magnitue     Radius  \\\n",
       "0   0.000000     54.00  8.334383e+07     9.5  10.392305   0.000000   \n",
       "1   2.822973     57.04  8.292607e+07     9.5  10.464666   4.010353   \n",
       "2   0.000000     42.00  8.312799e+07     9.5   9.165151   0.000000   \n",
       "3   0.000000     50.00  8.301570e+07     9.5  10.000000   0.000000   \n",
       "4  23.113111     57.88  8.297300e+07     9.5  11.346876  32.716243   \n",
       "\n",
       "    Covariance  Variance  Weight             label  \n",
       "0     0.000000      0.00  141.55  DDoS-RSTFINFlood  \n",
       "1   160.987842      0.05  141.55     DoS-TCP_Flood  \n",
       "2     0.000000      0.00  141.55   DDoS-ICMP_Flood  \n",
       "3     0.000000      0.00  141.55     DoS-UDP_Flood  \n",
       "4  3016.808286      0.19  141.55     DoS-SYN_Flood  \n",
       "\n",
       "[5 rows x 47 columns]"
      ]
     },
     "execution_count": 3,
     "metadata": {},
     "output_type": "execute_result"
    }
   ],
   "source": [
    "dfs = [pd.read_csv(filename) for filename in parts]\n",
    "full_df = pd.concat(dfs, ignore_index=True)\n",
    "full_df.head()"
   ]
  },
  {
   "cell_type": "markdown",
   "id": "412e9f7d-fcbf-4e2e-83cf-64da62540975",
   "metadata": {},
   "source": [
    "### Keep Dos and Benign"
   ]
  },
  {
   "cell_type": "code",
   "execution_count": 4,
   "id": "6b18e5bc-71fe-4542-9a33-698907bbcdee",
   "metadata": {},
   "outputs": [],
   "source": [
    "labels_to_keep = [\"DoS-UDP_Flood\", \"DoS-TCP_Flood\", \"DoS-SYN_Flood\", \"BenignTraffic\"]\n",
    "df = full_df[full_df[\"label\"].isin(labels_to_keep)]\n",
    "df.reset_index(drop=True, inplace=True)\n",
    "\n",
    "del full_df"
   ]
  },
  {
   "cell_type": "code",
   "execution_count": 5,
   "id": "a97bb37f-83e6-4793-96f7-b2fe9c228951",
   "metadata": {},
   "outputs": [
    {
     "data": {
      "text/plain": [
       "label\n",
       "DoS-UDP_Flood    386668\n",
       "DoS-TCP_Flood    311052\n",
       "DoS-SYN_Flood    235060\n",
       "BenignTraffic    127937\n",
       "Name: count, dtype: int64"
      ]
     },
     "execution_count": 5,
     "metadata": {},
     "output_type": "execute_result"
    }
   ],
   "source": [
    "df['label'].value_counts()"
   ]
  },
  {
   "cell_type": "markdown",
   "id": "a978fe78-19a7-4585-9b4b-ab956bc47f12",
   "metadata": {},
   "source": [
    "### Convert \"Protocol Type\" from number to str"
   ]
  },
  {
   "cell_type": "code",
   "execution_count": 6,
   "id": "fc4a3492-8bbb-4256-aad8-2813d1814ba4",
   "metadata": {},
   "outputs": [],
   "source": [
    "iana_map = { \n",
    "    \"0\": \"HOPOPT\", \"1\": \"ICMP\", \"2\": \"IGMP\", \"3\": \"GGP\", \"4\": \"IPv4\", \"5\": \"ST\", \n",
    "    \"6\": \"TCP\", \"7\": \"CBT\", \"8\": \"EGP\", \"9\": \"IGP\", \"10\": \"BBN-RCC-MON\", \"11\": \"NVP-II\", \n",
    "    \"12\": \"PUP\", \"13\": \"ARGUS (deprecated)\", \"14\": \"EMCON\", \"15\": \"XNET\", \"16\": \"CHAOS\", \n",
    "    \"17\": \"UDP\", \"18\": \"MUX\", \"19\": \"DCN-MEAS\", \"20\": \"HMP\", \"21\": \"PRM\", \"22\": \"XNS-IDP\", \n",
    "    \"23\": \"TRUNK-1\", \"24\": \"TRUNK-2\", \"25\": \"LEAF-1\", \"26\": \"LEAF-2\", \"27\": \"RDP\", \n",
    "    \"28\": \"IRTP\", \"29\": \"ISO-TP4\", \"30\": \"NETBLT\", \"31\": \"MFE-NSP\", \"32\": \"MERIT-INP\", \n",
    "    \"33\": \"DCCP\", \"34\": \"3PC\", \"35\": \"IDPR\", \"36\": \"XTP\", \"37\": \"DDP\", \"38\": \"IDPR-CMTP\", \n",
    "    \"39\": \"TP++\", \"40\": \"IL\", \"41\": \"IPv6\", \"42\": \"SDRP\", \"43\": \"IPv6-Route\", \n",
    "    \"44\": \"IPv6-Frag\", \"45\": \"IDRP\", \"46\": \"RSVP\", \"47\": \"GRE\", \"48\": \"DSR\", \"49\": \"BNA\", \n",
    "    \"50\": \"ESP\", \"51\": \"AH\", \"52\": \"I-NLSP\", \"53\": \"SWIPE (deprecated)\", \"54\": \"NARP\", \n",
    "    \"55\": \"MOBILE\", \"56\": \"TLSP\", \"57\": \"SKIP\", \"58\": \"IPv6-ICMP\", \"59\": \"IPv6-NoNxt\", \n",
    "    \"60\": \"IPv6-Opts\", \"62\": \"CFTP\", \"64\": \"SAT-EXPAK\", \"65\": \"KRYPTOLAN\", \"66\": \"RVD\", \n",
    "    \"67\": \"IPPC\", \"69\": \"SAT-MON\", \"70\": \"VISA\", \"71\": \"IPCV\", \"72\": \"CPNX\", \"73\": \"CPHB\", \n",
    "    \"74\": \"WSN\", \"75\": \"PVP\", \"76\": \"BR-SAT-MON\", \"77\": \"SUN-ND\", \"78\": \"WB-MON\", \n",
    "    \"79\": \"WB-EXPAK\", \"80\": \"ISO-IP\", \"81\": \"VMTP\", \"82\": \"SECURE-VMTP\", \"83\": \"VINES\", \n",
    "    \"84\": \"IPTM\", \"85\": \"NSFNET-IGP\", \"86\": \"DGP\", \"87\": \"TCF\", \"88\": \"EIGRP\", \n",
    "    \"89\": \"OSPFIGP\", \"90\": \"Sprite-RPC\", \"91\": \"LARP\", \"92\": \"MTP\", \"93\": \"AX.25\", \n",
    "    \"94\": \"IPIP\", \"95\": \"MICP (deprecated)\",\"96\": \"SCC-SP\", \"97\": \"ETHERIP\", \"98\": \"ENCAP\", \n",
    "    \"100\": \"GMTP\", \"101\": \"IFMP\", \"102\": \"PNNI\", \"103\": \"PIM\", \"104\": \"ARIS\", \"105\": \"SCPS\", \n",
    "    \"106\": \"QNX\", \"107\": \"A/N\", \"108\": \"IPComp\", \"109\": \"SNP\", \"110\": \"Compaq-Peer\", \n",
    "    \"111\": \"IPX-in-IP\", \"112\": \"VRRP\", \"113\": \"PGM\", \"114\": \"\", \"115\": \"L2TP\", \"116\": \"DDX\",  \n",
    "    \"117\": \"IATP\", \"118\": \"STP\", \"119\": \"SRP\", \"120\": \"UTI\", \"121\": \"SMP\", \n",
    "    \"122\": \"SM (deprecated)\", \"123\": \"PTP\",\"124\": \"ISIS over IPv4\", \"125\": \"FIRE\", \n",
    "    \"126\": \"CRTP\", \"127\": \"CRUDP\", \"128\": \"SSCOPMCE\", \"129\": \"IPLT\", \"130\": \"SPS\", \n",
    "    \"131\": \"PIPE\", \"132\": \"SCTP\",  \"133\": \"FC\", \"134\": \"RSVP-E2E-IGNORE\", \n",
    "    \"135\": \"Mobility Header\", \"136\": \"UDPLite\", \"137\": \"MPLS-in-IP\", \"138\": \"manet\", \n",
    "    \"139\": \"HIP\", \"140\": \"Shim6\", \"141\": \"WESP\", \"142\": \"ROHC\", \"143\": \"Ethernet\", \n",
    "    \"144\": \"AGGFRAG\", \"145\": \"NSH\"\n",
    "}\n",
    "\n",
    "df[\"Protocol Type\"] = df[\"Protocol Type\"].apply(lambda num : iana_map[ str(int(num)) ])"
   ]
  },
  {
   "cell_type": "code",
   "execution_count": 7,
   "id": "dd393984-aa1d-474a-ad35-d7bb86b50d20",
   "metadata": {},
   "outputs": [
    {
     "data": {
      "text/plain": [
       "Protocol Type\n",
       "TCP                   569643\n",
       "UDP                   233095\n",
       "CHAOS                 132571\n",
       "ST                     37703\n",
       "CBT                    24424\n",
       "EGP                    13881\n",
       "XNET                   11236\n",
       "IGP                     9056\n",
       "BBN-RCC-MON             6321\n",
       "EMCON                   5847\n",
       "ARGUS (deprecated)      4812\n",
       "NVP-II                  4725\n",
       "PUP                     4456\n",
       "IPv4                    2235\n",
       "GGP                      270\n",
       "ICMP                     248\n",
       "IGMP                     173\n",
       "HOPOPT                    21\n",
       "Name: count, dtype: int64"
      ]
     },
     "execution_count": 7,
     "metadata": {},
     "output_type": "execute_result"
    }
   ],
   "source": [
    "df[\"Protocol Type\"].value_counts()"
   ]
  },
  {
   "cell_type": "markdown",
   "id": "a45985a5-aa4d-418d-b025-f4ac952bc2d9",
   "metadata": {},
   "source": [
    "### Encode different types of Dos to one label"
   ]
  },
  {
   "cell_type": "code",
   "execution_count": 8,
   "id": "6faee6fa-7975-464e-952c-6a4fa4e857eb",
   "metadata": {},
   "outputs": [],
   "source": [
    "reduced_labels = {\n",
    "    'DDoS-RSTFINFlood': 'DDoS', 'DDoS-PSHACK_Flood': 'DDoS', 'DDoS-SYN_Flood': 'DDoS', \n",
    "    'DDoS-UDP_Flood': 'DDoS', 'DDoS-TCP_Flood': 'DDoS', 'DDoS-ICMP_Flood': 'DDoS', \n",
    "    'DDoS-SynonymousIP_Flood': 'DDoS', 'DDoS-ACK_Fragmentation': 'DDoS', \n",
    "    'DDoS-UDP_Fragmentation': 'DDoS', 'DDoS-ICMP_Fragmentation': 'DDoS', \n",
    "    'DDoS-SlowLoris': 'DDoS', 'DDoS-HTTP_Flood': 'DDoS', 'DoS-UDP_Flood': 'DoS', \n",
    "    'DoS-SYN_Flood': 'DoS', 'DoS-TCP_Flood': 'DoS', 'DoS-HTTP_Flood': 'DoS', \n",
    "    'Mirai-greeth_flood': 'Mirai', 'Mirai-greip_flood': 'Mirai', 'Mirai-udpplain': 'Mirai', \n",
    "    'Recon-PingSweep': 'Recon', 'Recon-OSScan': 'Recon', 'Recon-PortScan': 'Recon', \n",
    "    'VulnerabilityScan': 'Recon', 'Recon-HostDiscovery': 'Recon', 'DNS_Spoofing': 'Spoofing', \n",
    "    'MITM-ArpSpoofing': 'Spoofing', 'BenignTraffic': 'Benign', 'BrowserHijacking': 'Web', \n",
    "    'Backdoor_Malware': 'Web', 'XSS': 'Web', 'Uploading_Attack': 'Web', 'SqlInjection': 'Web', \n",
    "    'CommandInjection': 'Web', 'DictionaryBruteForce': 'BruteForce'\n",
    "}\n",
    "\n",
    "df['label'] = df['label'].apply(lambda attack_name : reduced_labels[attack_name])"
   ]
  },
  {
   "cell_type": "code",
   "execution_count": 9,
   "id": "ca1f10a9-aa9d-4e19-87d8-e0d4d52be99b",
   "metadata": {},
   "outputs": [
    {
     "data": {
      "text/plain": [
       "label\n",
       "DoS       932780\n",
       "Benign    127937\n",
       "Name: count, dtype: int64"
      ]
     },
     "execution_count": 9,
     "metadata": {},
     "output_type": "execute_result"
    }
   ],
   "source": [
    "df[\"label\"].value_counts()"
   ]
  },
  {
   "cell_type": "markdown",
   "id": "aa1b8d7b-83d1-451b-a34d-1a8fdcd5674d",
   "metadata": {},
   "source": [
    "### Sample dataset"
   ]
  },
  {
   "cell_type": "code",
   "execution_count": 17,
   "id": "04ba131c-ea48-43ca-8913-7d3970bb6c09",
   "metadata": {},
   "outputs": [],
   "source": [
    "df1 = df.sample(n=100000, ignore_index=True)\n",
    "df2 = df.sample(n=400000, ignore_index=True)"
   ]
  },
  {
   "cell_type": "code",
   "execution_count": 18,
   "id": "41efacc4-ee60-4c79-81b5-bc360545f0de",
   "metadata": {},
   "outputs": [
    {
     "data": {
      "text/plain": [
       "label\n",
       "DoS       88052\n",
       "Benign    11948\n",
       "Name: count, dtype: int64"
      ]
     },
     "execution_count": 18,
     "metadata": {},
     "output_type": "execute_result"
    }
   ],
   "source": [
    "df1[\"label\"].value_counts()"
   ]
  },
  {
   "cell_type": "code",
   "execution_count": 19,
   "id": "091096ed-5b2b-4d34-b65e-fe28e2efbdab",
   "metadata": {},
   "outputs": [
    {
     "data": {
      "text/plain": [
       "label\n",
       "DoS       351900\n",
       "Benign     48100\n",
       "Name: count, dtype: int64"
      ]
     },
     "execution_count": 19,
     "metadata": {},
     "output_type": "execute_result"
    }
   ],
   "source": [
    "df2[\"label\"].value_counts()"
   ]
  },
  {
   "cell_type": "markdown",
   "id": "355d4e82-f40f-4512-8bb8-b570186a3c26",
   "metadata": {},
   "source": [
    "### Save Dos and Benign before preprocessing"
   ]
  },
  {
   "cell_type": "code",
   "execution_count": 20,
   "id": "f0dadf1c-b288-4731-a951-b16ccb891d38",
   "metadata": {},
   "outputs": [],
   "source": [
    "savepath1 = 'C:/ml_data/cic_iot_2023/cic_iot_2023_dos_benign_100000.csv'\n",
    "savepath2 = 'C:/ml_data/cic_iot_2023/cic_iot_2023_dos_benign_400000.csv'\n",
    "df1.to_csv(savepath1, index=False)\n",
    "df2.to_csv(savepath2, index=False)"
   ]
  },
  {
   "cell_type": "code",
   "execution_count": null,
   "id": "60db0068-6b4a-45ed-9e61-de20188b6239",
   "metadata": {},
   "outputs": [],
   "source": []
  }
 ],
 "metadata": {
  "kernelspec": {
   "display_name": "venv",
   "language": "python",
   "name": "venv"
  },
  "language_info": {
   "codemirror_mode": {
    "name": "ipython",
    "version": 3
   },
   "file_extension": ".py",
   "mimetype": "text/x-python",
   "name": "python",
   "nbconvert_exporter": "python",
   "pygments_lexer": "ipython3",
   "version": "3.10.11"
  }
 },
 "nbformat": 4,
 "nbformat_minor": 5
}
